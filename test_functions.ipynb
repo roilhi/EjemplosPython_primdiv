{
 "cells": [
  {
   "cell_type": "code",
   "execution_count": 14,
   "metadata": {},
   "outputs": [],
   "source": [
    "from my_functions import *\n",
    "from pascals_triangle import *\n",
    "from decomposition import *\n",
    "from is_prime_recursion import *"
   ]
  },
  {
   "cell_type": "markdown",
   "metadata": {},
   "source": [
    "Probando la función **division** que calcula el cociente y residuo del algoritmo de la división de dos enteros"
   ]
  },
  {
   "cell_type": "code",
   "execution_count": 15,
   "metadata": {},
   "outputs": [
    {
     "name": "stdout",
     "output_type": "stream",
     "text": [
      "Cociente 1\n",
      "Residuo 0\n"
     ]
    }
   ],
   "source": [
    "dividendo = 7\n",
    "divisor = 7\n",
    "q,r = division(dividendo,divisor)\n",
    "print(f'Cociente {q}')\n",
    "print(f'Residuo {r}')"
   ]
  },
  {
   "cell_type": "markdown",
   "metadata": {},
   "source": [
    "Probando la función que verifica si un número es primo o no desde el archivo my_functions.py"
   ]
  },
  {
   "cell_type": "code",
   "execution_count": 16,
   "metadata": {},
   "outputs": [
    {
     "name": "stdout",
     "output_type": "stream",
     "text": [
      "El número 13 es primo\n"
     ]
    }
   ],
   "source": [
    "# Probando la función que toma un número y verifica si es primo o no\n",
    "num = 13\n",
    "if is_prime(13):\n",
    "    print(f'El número {num} es primo')\n",
    "else:\n",
    "    print(f'El número {num} no es primo')"
   ]
  },
  {
   "cell_type": "markdown",
   "metadata": {},
   "source": [
    "Probando la función que calcula una lista de números primos desde 1,2, hasta \"n\""
   ]
  },
  {
   "cell_type": "code",
   "execution_count": 17,
   "metadata": {},
   "outputs": [
    {
     "name": "stdout",
     "output_type": "stream",
     "text": [
      "Los números primos encontrados hasta 15 son [2, 3, 5, 7, 11, 13]\n"
     ]
    }
   ],
   "source": [
    "# Probando la función que calcula los números primos desde 1,2, ... hasta un \n",
    "# número límite llamado \"lim\"\n",
    "lim = 15\n",
    "print(f'Los números primos encontrados hasta {lim} son {primes(lim)}')"
   ]
  },
  {
   "cell_type": "markdown",
   "metadata": {},
   "source": [
    "Probando la función que calcula si un número es primo o no usando recursión"
   ]
  },
  {
   "cell_type": "code",
   "execution_count": 18,
   "metadata": {},
   "outputs": [
    {
     "name": "stdout",
     "output_type": "stream",
     "text": [
      "El número 13 es primo\n"
     ]
    }
   ],
   "source": [
    "# Probando la función que verifica si un número es primo o no usando recursión\n",
    "num = 13\n",
    "if is_prime_recursion(13):\n",
    "    print(f'El número {num} es primo')\n",
    "else:\n",
    "    print(f'El número {num} no es primo')"
   ]
  },
  {
   "cell_type": "markdown",
   "metadata": {},
   "source": [
    "Probando la función que imprime los coeficientes del Triángulo de Pascal"
   ]
  },
  {
   "cell_type": "code",
   "execution_count": 19,
   "metadata": {},
   "outputs": [
    {
     "name": "stdout",
     "output_type": "stream",
     "text": [
      "[1]\n",
      "[1, 1]\n",
      "[1, 2, 1]\n",
      "[1, 3, 3, 1]\n",
      "[1, 4, 6, 4, 1]\n",
      "[1, 5, 10, 10, 5, 1]\n",
      "[1, 6, 15, 20, 15, 6, 1]\n",
      "[1, 7, 21, 35, 35, 21, 7, 1]\n"
     ]
    }
   ],
   "source": [
    "# Se genera para probar la función como ejemplo un triángulo de pascal de 4 líneas y se guarda en la variable triangle\n",
    "triangle = pascals_triangle(8)\n",
    "# Se imprimen las líneas tal y como se buscaba hacer en el manual\n",
    "for row in triangle:\n",
    "  print(row)"
   ]
  },
  {
   "cell_type": "code",
   "execution_count": null,
   "metadata": {},
   "outputs": [],
   "source": []
  }
 ],
 "metadata": {
  "interpreter": {
   "hash": "b09a149061597eb38ae03580a0cacba69c0573baf5944ee8d06b2e2f80962da4"
  },
  "kernelspec": {
   "display_name": "Python 3.9.7 64-bit",
   "name": "python3"
  },
  "language_info": {
   "codemirror_mode": {
    "name": "ipython",
    "version": 3
   },
   "file_extension": ".py",
   "mimetype": "text/x-python",
   "name": "python",
   "nbconvert_exporter": "python",
   "pygments_lexer": "ipython3",
   "version": "3.9.7"
  },
  "orig_nbformat": 4
 },
 "nbformat": 4,
 "nbformat_minor": 2
}
